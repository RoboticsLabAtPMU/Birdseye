{
 "cells": [
  {
   "cell_type": "code",
   "execution_count": 41,
   "metadata": {},
   "outputs": [],
   "source": [
    "from keras.models import Sequential\n",
    "from keras.layers import Conv2D\n",
    "from keras.layers import MaxPooling2D\n",
    "from keras.layers import Flatten\n",
    "from keras.layers import Dense"
   ]
  },
  {
   "cell_type": "code",
   "execution_count": 42,
   "metadata": {},
   "outputs": [],
   "source": [
    "# Initialising the CNN\n",
    "classifier = Sequential()\n",
    "\n",
    "# Convolution\n",
    "classifier.add(Conv2D(32, (3, 3), input_shape = (64, 64, 3), activation = 'relu'))\n",
    "\n",
    "# Pooling\n",
    "classifier.add(MaxPooling2D(pool_size = (2, 2)))\n",
    "\n",
    "# Adding a second convolutional layer\n",
    "classifier.add(Conv2D(32, (3, 3), activation = 'relu'))\n",
    "classifier.add(MaxPooling2D(pool_size = (2, 2)))\n",
    "\n",
    "# Flattening\n",
    "classifier.add(Flatten())\n",
    "\n",
    "# Full connection\n",
    "classifier.add(Dense(units = 128, activation = 'relu'))\n",
    "classifier.add(Dense(units = 1, activation = 'sigmoid'))\n",
    "\n",
    "# Compiling the CNN\n",
    "classifier.compile(optimizer = 'adam', loss = 'binary_crossentropy', metrics = ['accuracy'])"
   ]
  },
  {
   "cell_type": "code",
   "execution_count": 43,
   "metadata": {},
   "outputs": [],
   "source": [
    "model = classifier.load_weights('simple_CNN.h5')"
   ]
  },
  {
   "cell_type": "code",
   "execution_count": 44,
   "metadata": {},
   "outputs": [
    {
     "name": "stdout",
     "output_type": "stream",
     "text": [
      "Found 5 images belonging to 2 classes.\n",
      "5/5 [==============================] - 2s 144ms/step - loss: 2.8425 - accuracy: 0.2000\n",
      "test accuracy is\n",
      "0.20000000298023224\n",
      "[[1]\n",
      " [0]\n",
      " [0]\n",
      " [0]\n",
      " [0]]\n"
     ]
    }
   ],
   "source": [
    "from keras.preprocessing.image import ImageDataGenerator\n",
    "import numpy as np\n",
    "test_datagen = ImageDataGenerator(rescale = 1./255)\n",
    "\n",
    "test_generator = test_datagen.flow_from_directory('/Users/hayfaalsuhaimi/Desktop/potholevsnormal/Predictions', target_size=(64,64), batch_size=1, class_mode='binary')\n",
    "test_loss, test_acc = classifier.evaluate(test_generator)\n",
    "print('test accuracy is')\n",
    "print(test_acc)\n",
    "\n",
    "filenames = test_generator.filenames\n",
    "nb_samples = len(filenames)\n",
    "\n",
    "predicted = classifier.predict(test_generator,steps = nb_samples)\n",
    "\n",
    "predicted = np.round(predicted, decimals=0)\n",
    "\n",
    "filenames = test_generator.classes\n",
    "\n",
    "filenames\n",
    "\n",
    "test_generator.filenames\n",
    "\n",
    "predicted = predicted.astype(np.int64)\n",
    "\n",
    "print(predicted)\n",
    "\n",
    "import matplotlib\n",
    "from sklearn.metrics import classification_report, confusion_matrix\n"
   ]
  },
  {
   "cell_type": "code",
   "execution_count": 45,
   "metadata": {},
   "outputs": [],
   "source": [
    "import os"
   ]
  },
  {
   "cell_type": "code",
   "execution_count": 46,
   "metadata": {},
   "outputs": [
    {
     "name": "stdout",
     "output_type": "stream",
     "text": [
      "{'lat': 26.1480402, 'lng': 50.0920789}\n"
     ]
    }
   ],
   "source": [
    "txt=[]\n",
    "direct = np.array(os.listdir('/Users/hayfaalsuhaimi/Desktop/potholevsnormal/Predictions/pred'))\n",
    "img=[]\n",
    "pthlocs=[]\n",
    "pred='/Users/hayfaalsuhaimi/Desktop/potholevsnormal/Predictions/pred'\n",
    "\n",
    "for images in direct:\n",
    "    #take images in the folder \n",
    "    if (images.endswith('.jpg')):\n",
    "        img.append(images)\n",
    "\n",
    "#Add text files in direct array to txt array\n",
    "for i in direct:\n",
    "    x=os.path.splitext(i)\n",
    "    if x[1]=='.txt':\n",
    "        txt.append(i)\n",
    "        \n",
    "i=0\n",
    "for a in img:\n",
    "    p=predicted[i]\n",
    "    if p == [0]:\n",
    "        name=os.path.splitext(a)\n",
    "        for text in txt:\n",
    "            t=os.path.splitext(text)\n",
    "            if name[0] == t[0]:\n",
    "                pthlocs.append(text)\n",
    "        \n",
    "        \n",
    "    i+=1\n",
    "    \n",
    "#get values of longitude and latitude from pothole detected text files\n",
    "\n",
    "for l in pthlocs:\n",
    "    pr=os.path.join(pred,l)\n",
    "    file=open(pr)\n",
    "    content=file.readlines()   \n",
    "    line=content[0]\n",
    "    lat=line.partition(\"and\")[0]\n",
    "    latitude=lat.partition(\"=\")[2]\n",
    "    long=line.partition(\"and\")[2]\n",
    "    longitude=long.partition(\"=\")[2]\n",
    "    loc={\n",
    "        \"lat\": float(latitude),\n",
    "        \"lng\": float(longitude)\n",
    "        }\n",
    "    print(loc)\n",
    "\n",
    "\n",
    "        "
   ]
  },
  {
   "cell_type": "code",
   "execution_count": null,
   "metadata": {},
   "outputs": [],
   "source": []
  }
 ],
 "metadata": {
  "kernelspec": {
   "display_name": "Python 3 (ipykernel)",
   "language": "python",
   "name": "python3"
  },
  "language_info": {
   "codemirror_mode": {
    "name": "ipython",
    "version": 3
   },
   "file_extension": ".py",
   "mimetype": "text/x-python",
   "name": "python",
   "nbconvert_exporter": "python",
   "pygments_lexer": "ipython3",
   "version": "3.9.12"
  }
 },
 "nbformat": 4,
 "nbformat_minor": 4
}
