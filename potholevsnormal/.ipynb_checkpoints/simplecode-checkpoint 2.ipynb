{
 "cells": [
  {
   "cell_type": "code",
   "execution_count": 4,
   "metadata": {},
   "outputs": [],
   "source": [
    "from keras.models import Sequential\n",
    "from keras.layers import Conv2D\n",
    "from keras.layers import MaxPooling2D\n",
    "from keras.layers import Flatten\n",
    "from keras.layers import Dense"
   ]
  },
  {
   "cell_type": "code",
   "execution_count": 2,
   "metadata": {},
   "outputs": [
    {
     "name": "stderr",
     "output_type": "stream",
     "text": [
      "2022-04-08 04:18:45.995494: I tensorflow/core/platform/cpu_feature_guard.cc:151] This TensorFlow binary is optimized with oneAPI Deep Neural Network Library (oneDNN) to use the following CPU instructions in performance-critical operations:  AVX2 FMA\n",
      "To enable them in other operations, rebuild TensorFlow with the appropriate compiler flags.\n"
     ]
    }
   ],
   "source": [
    "# Initialising the CNN\n",
    "classifier = Sequential()\n",
    "\n",
    "# Convolution\n",
    "classifier.add(Conv2D(32, (3, 3), input_shape = (64, 64, 3), activation = 'relu'))\n",
    "\n",
    "# Pooling\n",
    "classifier.add(MaxPooling2D(pool_size = (2, 2)))\n",
    "\n",
    "# Adding a second convolutional layer\n",
    "classifier.add(Conv2D(32, (3, 3), activation = 'relu'))\n",
    "classifier.add(MaxPooling2D(pool_size = (2, 2)))\n",
    "\n",
    "# Flattening\n",
    "classifier.add(Flatten())\n",
    "\n",
    "# Full connection\n",
    "classifier.add(Dense(units = 128, activation = 'relu'))\n",
    "classifier.add(Dense(units = 1, activation = 'sigmoid'))\n",
    "\n",
    "# Compiling the CNN\n",
    "classifier.compile(optimizer = 'adam', loss = 'binary_crossentropy', metrics = ['accuracy'])\n"
   ]
  },
  {
   "cell_type": "code",
   "execution_count": 8,
   "metadata": {},
   "outputs": [
    {
     "name": "stdout",
     "output_type": "stream",
     "text": [
      "Found 6000 images belonging to 2 classes.\n",
      "Found 2000 images belonging to 2 classes.\n"
     ]
    }
   ],
   "source": [
    "from keras.preprocessing.image import ImageDataGenerator\n",
    "\n",
    "train_datagen = ImageDataGenerator(rescale = 1./255)\n",
    "\n",
    "test_datagen = ImageDataGenerator(rescale = 1./255)\n",
    "\n",
    "#addition 1\n",
    "valid_datagen = ImageDataGenerator(rescale = 1./255)\n",
    "datasets = '/Users/hayfaalsuhaimi/Desktop/potholevsnormal/datasets'\n",
    "\n",
    "training_set = train_datagen.flow_from_directory('/Users/hayfaalsuhaimi/Desktop/potholevsnormal/datasets/train',\n",
    "                                                 target_size = (64, 64),  classes=['pth','smt'],\n",
    "                                                 batch_size = 32,\n",
    "                                                 class_mode = 'binary')\n",
    "\n",
    "valid_set = valid_datagen.flow_from_directory('/Users/hayfaalsuhaimi/Desktop/potholevsnormal/datasets/validate',\n",
    "                                            target_size = (64, 64),  classes=['pth','smt'],\n",
    "                                            batch_size = 16,\n",
    "                                            class_mode = 'binary')\n"
   ]
  },
  {
   "cell_type": "code",
   "execution_count": 6,
   "metadata": {},
   "outputs": [],
   "source": [
    "import os"
   ]
  },
  {
   "cell_type": "code",
   "execution_count": 9,
   "metadata": {},
   "outputs": [],
   "source": [
    "from keras.callbacks import EarlyStopping, ModelCheckpoint\n",
    "\n",
    "earlyStopping = EarlyStopping(monitor='val_accuracy', patience=20, verbose=0, mode='max')\n",
    "\n",
    "model_fname = os.path.join(datasets,\"mdl_wts.hdf5\")\n",
    "\n",
    "mcp_save = ModelCheckpoint(model_fname, save_best_only=True, monitor='val_accuracy', mode='max')"
   ]
  },
  {
   "cell_type": "code",
   "execution_count": 15,
   "metadata": {
    "collapsed": true,
    "jupyter": {
     "outputs_hidden": true
    },
    "tags": []
   },
   "outputs": [
    {
     "name": "stderr",
     "output_type": "stream",
     "text": [
      "/var/folders/kj/0z4g_mts3mdf1wrtmmsrrm9w0000gn/T/ipykernel_11801/1371935504.py:1: UserWarning: `Model.fit_generator` is deprecated and will be removed in a future version. Please use `Model.fit`, which supports generators.\n",
      "  history = classifier.fit_generator(training_set,\n"
     ]
    },
    {
     "name": "stdout",
     "output_type": "stream",
     "text": [
      "Epoch 1/100\n",
      "80/80 [==============================] - 160s 2s/step - loss: 0.4611 - accuracy: 0.7840 - val_loss: 0.3524 - val_accuracy: 0.8562\n",
      "Epoch 2/100\n",
      " 4/80 [>.............................] - ETA: 1:50 - loss: 0.3493 - accuracy: 0.8438"
     ]
    },
    {
     "name": "stderr",
     "output_type": "stream",
     "text": [
      "/Users/hayfaalsuhaimi/opt/anaconda3/envs/potholevsnormal/lib/python3.9/site-packages/PIL/Image.py:945: UserWarning: Palette images with Transparency expressed in bytes should be converted to RGBA images\n",
      "  warnings.warn(\n"
     ]
    },
    {
     "name": "stdout",
     "output_type": "stream",
     "text": [
      "80/80 [==============================] - 163s 2s/step - loss: 0.2330 - accuracy: 0.9074 - val_loss: 0.4083 - val_accuracy: 0.8094\n",
      "Epoch 3/100\n",
      "80/80 [==============================] - 165s 2s/step - loss: 0.2007 - accuracy: 0.9237 - val_loss: 0.2879 - val_accuracy: 0.8938\n",
      "Epoch 4/100\n",
      "80/80 [==============================] - 175s 2s/step - loss: 0.1398 - accuracy: 0.9454 - val_loss: 0.2215 - val_accuracy: 0.9187\n",
      "Epoch 5/100\n",
      "80/80 [==============================] - 162s 2s/step - loss: 0.1150 - accuracy: 0.9566 - val_loss: 0.4667 - val_accuracy: 0.8625\n",
      "Epoch 6/100\n",
      "80/80 [==============================] - 179s 2s/step - loss: 0.0938 - accuracy: 0.9691 - val_loss: 0.2210 - val_accuracy: 0.9125\n",
      "Epoch 7/100\n",
      "80/80 [==============================] - 168s 2s/step - loss: 0.0593 - accuracy: 0.9832 - val_loss: 0.5075 - val_accuracy: 0.8531\n",
      "Epoch 8/100\n",
      "80/80 [==============================] - 167s 2s/step - loss: 0.0724 - accuracy: 0.9748 - val_loss: 0.2618 - val_accuracy: 0.9000\n",
      "Epoch 9/100\n",
      "80/80 [==============================] - 167s 2s/step - loss: 0.0499 - accuracy: 0.9862 - val_loss: 0.6908 - val_accuracy: 0.8813\n",
      "Epoch 10/100\n",
      "80/80 [==============================] - 177s 2s/step - loss: 0.0328 - accuracy: 0.9902 - val_loss: 0.4590 - val_accuracy: 0.8844\n",
      "Epoch 11/100\n",
      "80/80 [==============================] - 164s 2s/step - loss: 0.0220 - accuracy: 0.9941 - val_loss: 0.5512 - val_accuracy: 0.8844\n",
      "Epoch 12/100\n",
      "80/80 [==============================] - 166s 2s/step - loss: 0.0127 - accuracy: 0.9965 - val_loss: 0.3851 - val_accuracy: 0.9062\n",
      "Epoch 13/100\n",
      "80/80 [==============================] - 172s 2s/step - loss: 0.0233 - accuracy: 0.9926 - val_loss: 0.1344 - val_accuracy: 0.9500\n",
      "Epoch 14/100\n",
      "80/80 [==============================] - 193s 2s/step - loss: 0.0214 - accuracy: 0.9930 - val_loss: 0.2790 - val_accuracy: 0.9219\n",
      "Epoch 15/100\n",
      "80/80 [==============================] - 162s 2s/step - loss: 0.0190 - accuracy: 0.9937 - val_loss: 0.4134 - val_accuracy: 0.9156\n",
      "Epoch 16/100\n",
      "80/80 [==============================] - 165s 2s/step - loss: 0.0088 - accuracy: 0.9969 - val_loss: 0.4505 - val_accuracy: 0.9000\n",
      "Epoch 17/100\n",
      "80/80 [==============================] - 166s 2s/step - loss: 0.0071 - accuracy: 0.9980 - val_loss: 0.4891 - val_accuracy: 0.9187\n",
      "Epoch 18/100\n",
      "80/80 [==============================] - 155s 2s/step - loss: 0.0020 - accuracy: 1.0000 - val_loss: 0.3678 - val_accuracy: 0.9344\n",
      "Epoch 19/100\n",
      "80/80 [==============================] - 158s 2s/step - loss: 0.0010 - accuracy: 1.0000 - val_loss: 0.5553 - val_accuracy: 0.9000\n",
      "Epoch 20/100\n",
      "80/80 [==============================] - 171s 2s/step - loss: 9.1301e-04 - accuracy: 1.0000 - val_loss: 0.3664 - val_accuracy: 0.9312\n",
      "Epoch 21/100\n",
      "80/80 [==============================] - 170s 2s/step - loss: 5.5532e-04 - accuracy: 1.0000 - val_loss: 0.4870 - val_accuracy: 0.9281\n",
      "Epoch 22/100\n",
      "80/80 [==============================] - 162s 2s/step - loss: 6.4579e-04 - accuracy: 1.0000 - val_loss: 0.3705 - val_accuracy: 0.9469\n",
      "Epoch 23/100\n",
      "80/80 [==============================] - 167s 2s/step - loss: 9.1708e-04 - accuracy: 1.0000 - val_loss: 0.5702 - val_accuracy: 0.9000\n",
      "Epoch 24/100\n",
      "80/80 [==============================] - 159s 2s/step - loss: 5.1751e-04 - accuracy: 1.0000 - val_loss: 0.8034 - val_accuracy: 0.9031\n",
      "Epoch 25/100\n",
      "80/80 [==============================] - 157s 2s/step - loss: 0.0014 - accuracy: 1.0000 - val_loss: 0.4488 - val_accuracy: 0.9406\n",
      "Epoch 26/100\n",
      "80/80 [==============================] - 162s 2s/step - loss: 5.1500e-04 - accuracy: 1.0000 - val_loss: 0.6859 - val_accuracy: 0.9125\n",
      "Epoch 27/100\n",
      "80/80 [==============================] - 157s 2s/step - loss: 3.0632e-04 - accuracy: 1.0000 - val_loss: 0.4605 - val_accuracy: 0.9281\n",
      "Epoch 28/100\n",
      "80/80 [==============================] - 157s 2s/step - loss: 2.7467e-04 - accuracy: 1.0000 - val_loss: 0.4510 - val_accuracy: 0.9438\n",
      "Epoch 29/100\n",
      "80/80 [==============================] - 462s 6s/step - loss: 2.3555e-04 - accuracy: 1.0000 - val_loss: 0.5884 - val_accuracy: 0.9281\n",
      "Epoch 30/100\n",
      "80/80 [==============================] - 164s 2s/step - loss: 1.8653e-04 - accuracy: 1.0000 - val_loss: 0.4316 - val_accuracy: 0.9438\n",
      "Epoch 31/100\n",
      "80/80 [==============================] - 164s 2s/step - loss: 1.5771e-04 - accuracy: 1.0000 - val_loss: 0.4578 - val_accuracy: 0.9312\n",
      "Epoch 32/100\n",
      "80/80 [==============================] - 169s 2s/step - loss: 1.6316e-04 - accuracy: 1.0000 - val_loss: 0.4554 - val_accuracy: 0.9344\n",
      "Epoch 33/100\n",
      "80/80 [==============================] - 160s 2s/step - loss: 2.7960e-04 - accuracy: 1.0000 - val_loss: 0.3501 - val_accuracy: 0.9438\n",
      "training finished!!\n",
      "saving weights to simple_CNN.h5\n",
      "all weights saved successfully !!\n"
     ]
    }
   ],
   "source": [
    "history = classifier.fit_generator(training_set,\n",
    "                         steps_per_epoch = 80,\n",
    "                         epochs = 100,\n",
    "                         validation_data = valid_set,\n",
    "                         validation_steps = 20,\n",
    "                         callbacks=[earlyStopping, mcp_save])\n",
    "\n",
    "print('training finished!!')\n",
    "\n",
    "print('saving weights to simple_CNN.h5')\n",
    "\n",
    "classifier.save_weights('simple_CNN.h5')\n",
    "\n",
    "print('all weights saved successfully !!')"
   ]
  },
  {
   "cell_type": "code",
   "execution_count": 16,
   "metadata": {},
   "outputs": [],
   "source": [
    "acc = history.history['accuracy']\n",
    "val_acc = history.history['val_accuracy']\n",
    "loss = history.history['loss']\n",
    "val_loss = history.history['val_loss']"
   ]
  },
  {
   "cell_type": "code",
   "execution_count": 21,
   "metadata": {},
   "outputs": [
    {
     "data": {
      "image/png": "[encoded data removed]",
      "text/plain": [
       "<Figure size 432x288 with 1 Axes>"
      ]
     },
     "metadata": {
      "needs_background": "light"
     },
     "output_type": "display_data"
    }
   ],
   "source": [
    "import matplotlib.pyplot as plt\n",
    "\n",
    "epochs = range(1, 34)\n",
    "\n",
    "plt.plot(epochs, loss, 'bo', label='Training loss')\n",
    "plt.plot(epochs, val_loss, 'b', label='Validation loss')\n",
    "plt.title('Training and validation loss')\n",
    "plt.legend()\n",
    "plt.show()\n",
    "\n"
   ]
  },
  {
   "cell_type": "code",
   "execution_count": 22,
   "metadata": {},
   "outputs": [
    {
     "data": {
      "image/png": "[encoded data removed]",
      "text/plain": [
       "<Figure size 432x288 with 1 Axes>"
      ]
     },
     "metadata": {
      "needs_background": "light"
     },
     "output_type": "display_data"
    }
   ],
   "source": [
    "plt.plot(epochs, acc, 'ko', label='Training acc')\n",
    "plt.plot(epochs, val_acc, 'k', label='Validation acc')\n",
    "plt.title('Training and validation accuracy')\n",
    "plt.legend()\n",
    "plt.show()"
   ]
  },
  {
   "cell_type": "code",
   "execution_count": 23,
   "metadata": {},
   "outputs": [
    {
     "name": "stdout",
     "output_type": "stream",
     "text": [
      "Found 2000 images belonging to 2 classes.\n"
     ]
    },
    {
     "name": "stderr",
     "output_type": "stream",
     "text": [
      "/var/folders/kj/0z4g_mts3mdf1wrtmmsrrm9w0000gn/T/ipykernel_11801/2024487453.py:2: UserWarning: `Model.evaluate_generator` is deprecated and will be removed in a future version. Please use `Model.evaluate`, which supports generators.\n",
      "  test_loss, test_acc = classifier.evaluate_generator(test_generator, steps=50)\n"
     ]
    },
    {
     "name": "stdout",
     "output_type": "stream",
     "text": [
      "test accuracy is\n",
      "0.9399999976158142\n"
     ]
    }
   ],
   "source": [
    "test_generator = test_datagen.flow_from_directory('/Users/hayfaalsuhaimi/Desktop/potholevsnormal/datasets/test', target_size=(64,64), batch_size=5, class_mode='binary')\n",
    "test_loss, test_acc = classifier.evaluate_generator(test_generator, steps=50)\n",
    "print('test accuracy is')\n",
    "print(test_acc)\n",
    "\n",
    "#Change path to drone's burst photos directory"
   ]
  },
  {
   "cell_type": "code",
   "execution_count": 25,
   "metadata": {},
   "outputs": [],
   "source": [
    "import numpy as np"
   ]
  },
  {
   "cell_type": "code",
   "execution_count": 33,
   "metadata": {},
   "outputs": [
    {
     "name": "stderr",
     "output_type": "stream",
     "text": [
      "/var/folders/kj/0z4g_mts3mdf1wrtmmsrrm9w0000gn/T/ipykernel_11801/403646774.py:3: UserWarning: `Model.predict_generator` is deprecated and will be removed in a future version. Please use `Model.predict`, which supports generators.\n",
      "  predicted = classifier.predict_generator(test_generator,steps = np.ceil(nb_samples/desired_batch_size))\n",
      "/Users/hayfaalsuhaimi/opt/anaconda3/envs/potholevsnormal/lib/python3.9/site-packages/PIL/Image.py:945: UserWarning: Palette images with Transparency expressed in bytes should be converted to RGBA images\n",
      "  warnings.warn(\n"
     ]
    }
   ],
   "source": [
    "nb_samples=2000\n",
    "desired_batch_size = 5\n",
    "predicted = classifier.predict_generator(test_generator,steps = np.ceil(nb_samples/desired_batch_size))"
   ]
  },
  {
   "cell_type": "code",
   "execution_count": 34,
   "metadata": {},
   "outputs": [],
   "source": [
    "predicted = np.round(predicted, decimals=0)"
   ]
  },
  {
   "cell_type": "code",
   "execution_count": 35,
   "metadata": {},
   "outputs": [],
   "source": [
    "filenames = test_generator.classes"
   ]
  },
  {
   "cell_type": "code",
   "execution_count": 36,
   "metadata": {
    "tags": []
   },
   "outputs": [
    {
     "data": {
      "text/plain": [
       "array([0, 0, 0, ..., 1, 1, 1], dtype=int32)"
      ]
     },
     "execution_count": 36,
     "metadata": {},
     "output_type": "execute_result"
    }
   ],
   "source": [
    "filenames"
   ]
  },
  {
   "cell_type": "code",
   "execution_count": 3,
   "metadata": {
    "tags": []
   },
   "outputs": [
    {
     "ename": "SyntaxError",
     "evalue": "invalid syntax (1663781233.py, line 3)",
     "output_type": "error",
     "traceback": [
      "\u001b[0;36m  Input \u001b[0;32mIn [3]\u001b[0;36m\u001b[0m\n\u001b[0;31m    if class == \"pth\":\u001b[0m\n\u001b[0m       ^\u001b[0m\n\u001b[0;31mSyntaxError\u001b[0m\u001b[0;31m:\u001b[0m invalid syntax\n"
     ]
    }
   ],
   "source": [
    "pthPath = '/Users/hayfaalsuhaimi/Desktop/potholevsnormal/potholesResult'\n",
    "test_generator.filenames\n",
    "if class == \"pth\":\n",
    "    os.path.join(filenames, pthPath)\n",
    "#pthPath is a directory with the images classified as potholes"
   ]
  },
  {
   "cell_type": "code",
   "execution_count": 38,
   "metadata": {},
   "outputs": [],
   "source": [
    "predicted = predicted.astype(np.int64)"
   ]
  },
  {
   "cell_type": "code",
   "execution_count": 39,
   "metadata": {},
   "outputs": [
    {
     "name": "stdout",
     "output_type": "stream",
     "text": [
      "[[576 424]\n",
      " [559 441]]\n"
     ]
    }
   ],
   "source": [
    "import matplotlib\n",
    "from sklearn.metrics import classification_report, confusion_matrix\n",
    "\n",
    "print(confusion_matrix(filenames, predicted))"
   ]
  },
  {
   "cell_type": "code",
   "execution_count": 40,
   "metadata": {},
   "outputs": [
    {
     "name": "stdout",
     "output_type": "stream",
     "text": [
      "Classification Report\n",
      "              precision    recall  f1-score   support\n",
      "\n",
      "         Pth       0.51      0.58      0.54      1000\n",
      "         Smt       0.51      0.44      0.47      1000\n",
      "\n",
      "    accuracy                           0.51      2000\n",
      "   macro avg       0.51      0.51      0.51      2000\n",
      "weighted avg       0.51      0.51      0.51      2000\n",
      "\n"
     ]
    }
   ],
   "source": [
    "print('Classification Report')\n",
    "target_names = ['Pth', 'Smt']\n",
    "print(classification_report(filenames, predicted, target_names=target_names))"
   ]
  },
  {
   "cell_type": "raw",
   "metadata": {},
   "source": []
  },
  {
   "cell_type": "raw",
   "metadata": {},
   "source": [
    "pip install keras"
   ]
  },
  {
   "cell_type": "code",
   "execution_count": null,
   "metadata": {},
   "outputs": [],
   "source": []
  },
  {
   "cell_type": "raw",
   "metadata": {},
   "source": [
    "import keras"
   ]
  },
  {
   "cell_type": "code",
   "execution_count": 9,
   "metadata": {},
   "outputs": [
    {
     "data": {
      "text/plain": [
       "'2.8.0'"
      ]
     },
     "execution_count": 9,
     "metadata": {},
     "output_type": "execute_result"
    }
   ],
   "source": [
    "keras.__version__"
   ]
  },
  {
   "cell_type": "code",
   "execution_count": null,
   "metadata": {},
   "outputs": [],
   "source": []
  }
 ],
 "metadata": {
  "kernelspec": {
   "display_name": "Python 3 (ipykernel)",
   "language": "python",
   "name": "python3"
  },
  "language_info": {
   "codemirror_mode": {
    "name": "ipython",
    "version": 3
   },
   "file_extension": ".py",
   "mimetype": "text/x-python",
   "name": "python",
   "nbconvert_exporter": "python",
   "pygments_lexer": "ipython3",
   "version": "3.9.7"
  }
 },
 "nbformat": 4,
 "nbformat_minor": 4
}
